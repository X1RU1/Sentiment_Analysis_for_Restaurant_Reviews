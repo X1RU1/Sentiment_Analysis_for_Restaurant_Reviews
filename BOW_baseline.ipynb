{
  "nbformat": 4,
  "nbformat_minor": 0,
  "metadata": {
    "colab": {
      "provenance": []
    },
    "kernelspec": {
      "name": "python3",
      "display_name": "Python 3"
    },
    "language_info": {
      "name": "python"
    }
  },
  "cells": [
    {
      "cell_type": "code",
      "execution_count": 5,
      "metadata": {
        "colab": {
          "base_uri": "https://localhost:8080/"
        },
        "id": "C1mfqG3w0MR2",
        "outputId": "99937274-c6d2-425e-96c1-c9bd20052817"
      },
      "outputs": [
        {
          "output_type": "stream",
          "name": "stdout",
          "text": [
            "Accuracy: 0.81\n",
            "Classification Report:\n",
            "              precision    recall  f1-score   support\n",
            "\n",
            "           0       0.76      0.88      0.82        96\n",
            "           1       0.87      0.75      0.80       104\n",
            "\n",
            "    accuracy                           0.81       200\n",
            "   macro avg       0.82      0.81      0.81       200\n",
            "weighted avg       0.82      0.81      0.81       200\n",
            "\n",
            "AUROC: 0.8731971153846154\n"
          ]
        }
      ],
      "source": [
        "import pandas as pd\n",
        "from sklearn.feature_extraction.text import CountVectorizer\n",
        "from sklearn.model_selection import train_test_split\n",
        "from sklearn.linear_model import LogisticRegression\n",
        "from sklearn.metrics import accuracy_score, classification_report, roc_auc_score\n",
        "\n",
        "# Step 1: Load and preprocess the data\n",
        "df = pd.read_csv('../reviews.csv', delimiter='\\t', quoting=3)\n",
        "# Perform any additional preprocessing steps if needed\n",
        "\n",
        "# Step 2: Vectorize the text using CountVectorizer\n",
        "vectorizer = CountVectorizer()\n",
        "X = vectorizer.fit_transform(df['Review'])\n",
        "y = df['Liked']\n",
        "\n",
        "# Step 3: Split the data into training and testing sets\n",
        "X_train, X_test, y_train, y_test = train_test_split(X, y, test_size=0.2, random_state=42)\n",
        "\n",
        "# Step 4: Train a classifier\n",
        "classifier = LogisticRegression()\n",
        "classifier.fit(X_train, y_train)\n",
        "\n",
        "# Step 5: Evaluate the model\n",
        "y_pred = classifier.predict(X_test)\n",
        "accuracy = accuracy_score(y_test, y_pred)\n",
        "print(\"Accuracy:\", accuracy)\n",
        "print(\"Classification Report:\")\n",
        "print(classification_report(y_test, y_pred))\n",
        "\n",
        "\n",
        "y_prob = classifier.predict_proba(X_test)[:, 1]  # Probability of the positive class\n",
        "\n",
        "# Step 6: Calculate AUROC\n",
        "auroc = roc_auc_score(y_test, y_prob)\n",
        "print(\"AUROC:\", auroc)"
      ]
    }
  ]
}